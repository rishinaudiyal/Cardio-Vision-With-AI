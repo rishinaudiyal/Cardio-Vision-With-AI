{
 "cells": [
  {
   "cell_type": "code",
   "execution_count": 1,
   "id": "2c705cf7",
   "metadata": {},
   "outputs": [],
   "source": [
    "import tensorflow as tf\n",
    "from keras.preprocessing.image import ImageDataGenerator\n",
    "import numpy as np\n",
    "import matplotlib.pyplot as plt"
   ]
  },
  {
   "cell_type": "code",
   "execution_count": 2,
   "id": "5aceffd9",
   "metadata": {},
   "outputs": [
    {
     "name": "stdout",
     "output_type": "stream",
     "text": [
      "Found 256 images belonging to 3 classes.\n",
      "Found 291 images belonging to 2 classes.\n",
      "Found 695 images belonging to 5 classes.\n",
      "Found 335 images belonging to 2 classes.\n",
      "Found 273 images belonging to 2 classes.\n",
      "Found 281 images belonging to 2 classes.\n"
     ]
    }
   ],
   "source": [
    "test_datagen = ImageDataGenerator(rescale = 1./255)\n",
    "test_set_adm = test_datagen.flow_from_directory('C:/Users/HP/OneDrive/Desktop/archive (2)/ADM/test',\n",
    "                                            target_size = (128,128),\n",
    "                                            batch_size = 32,\n",
    "                                            class_mode = 'categorical')\n",
    "test_set_catoract = test_datagen.flow_from_directory('C:/Users/HP/OneDrive/Desktop/archive (2)/catoract/test',\n",
    "                                            target_size = (128,128),\n",
    "                                            batch_size = 32,\n",
    "                                            class_mode = 'categorical')\n",
    "test_set_dr = test_datagen.flow_from_directory('C:/Users/HP/OneDrive/Desktop/archive (2)/dr/test',\n",
    "                                            target_size = (128,128),\n",
    "                                            batch_size = 32,\n",
    "                                            class_mode = 'categorical')\n",
    "test_set_glancoma = test_datagen.flow_from_directory('C:/Users/HP/OneDrive/Desktop/archive (2)/glancoma/test',\n",
    "                                            target_size = (64,64),\n",
    "                                            batch_size = 32,\n",
    "                                            class_mode = 'categorical')\n",
    "test_set_hyper = test_datagen.flow_from_directory('C:/Users/HP/OneDrive/Desktop/archive (2)/hypertensive/test',\n",
    "                                            target_size = (64,64),\n",
    "                                            batch_size = 32,\n",
    "                                            class_mode = 'categorical')\n",
    "test_set_myopia = test_datagen.flow_from_directory('C:/Users/HP/OneDrive/Desktop/archive (2)/myopia/test',\n",
    "                                            target_size = (128,128),\n",
    "                                            batch_size = 32,\n",
    "                                            class_mode = 'categorical')"
   ]
  },
  {
   "cell_type": "code",
   "execution_count": 3,
   "id": "b5ec3333",
   "metadata": {},
   "outputs": [],
   "source": [
    "model_adm     =tf.keras.models.load_model('AMD.h5')\n",
    "model_dr      =tf.keras.models.load_model('DR.h5')\n",
    "model_catorat =tf.keras.models.load_model('catoract.h5')\n",
    "model_glancoma=tf.keras.models.load_model('glancoma.h5')\n",
    "model_hyper   =tf.keras.models.load_model('Hyper.h5')\n",
    "model_myopia  =tf.keras.models.load_model('myopia.h5')"
   ]
  },
  {
   "cell_type": "code",
   "execution_count": 4,
   "id": "ec66eec8",
   "metadata": {},
   "outputs": [
    {
     "name": "stdout",
     "output_type": "stream",
     "text": [
      "9/9 [==============================] - 4s 333ms/step - loss: 0.1002 - accuracy: 0.9597\n",
      "8/8 [==============================] - 4s 501ms/step - loss: 0.2898 - accuracy: 0.9102\n",
      "10/10 [==============================] - 5s 442ms/step - loss: 0.0981 - accuracy: 0.9622\n",
      "11/11 [==============================] - 4s 330ms/step - loss: 0.1681 - accuracy: 0.9463\n",
      "9/9 [==============================] - 5s 516ms/step - loss: 0.2024 - accuracy: 0.9573\n",
      "22/22 [==============================] - 21s 919ms/step - loss: 0.6279 - accuracy: 0.7237\n"
     ]
    }
   ],
   "source": [
    "acc_list={\"Hypertensive\":model_hyper.evaluate(test_set_hyper)[1],\n",
    "          \"ADM\":model_adm.evaluate(test_set_adm)[1],\n",
    "          \"Catoract\":model_catorat.evaluate(test_set_catoract)[1],\n",
    "          \"Glancoma\":model_glancoma.evaluate(test_set_glancoma)[1],\n",
    "          \"Myopia\":model_myopia.evaluate(test_set_myopia)[1],\n",
    "          \"DR\":model_dr.evaluate(test_set_dr)[1]\n",
    "         }"
   ]
  },
  {
   "cell_type": "code",
   "execution_count": 5,
   "id": "8edfc820",
   "metadata": {},
   "outputs": [],
   "source": [
    "for i in acc_list:\n",
    "    acc_list[i]*=100"
   ]
  },
  {
   "cell_type": "code",
   "execution_count": 6,
   "id": "42154b3c",
   "metadata": {},
   "outputs": [
    {
     "data": {
      "text/plain": [
       "{'Hypertensive': 95.9706962108612,\n",
       " 'ADM': 91.015625,\n",
       " 'Catoract': 96.2199330329895,\n",
       " 'Glancoma': 94.62686777114868,\n",
       " 'Myopia': 95.72953581809998,\n",
       " 'DR': 72.37409949302673}"
      ]
     },
     "execution_count": 6,
     "metadata": {},
     "output_type": "execute_result"
    }
   ],
   "source": [
    "acc_list"
   ]
  },
  {
   "cell_type": "code",
   "execution_count": 7,
   "id": "15e53e8c",
   "metadata": {},
   "outputs": [
    {
     "data": {
      "image/png": "[encoded data removed]",
      "text/plain": [
       "<Figure size 864x432 with 1 Axes>"
      ]
     },
     "metadata": {
      "needs_background": "light"
     },
     "output_type": "display_data"
    }
   ],
   "source": [
    "x=[]\n",
    "y=[]\n",
    "for i in acc_list:\n",
    "    x.append(i)\n",
    "    y.append(acc_list[i])  \n",
    "plt.figure(figsize=(12,6)) \n",
    "plt.rcParams['axes.edgecolor']='b'\n",
    "plt.ylabel('Accuracy',fontsize=20).set_color('b')\n",
    "plt.xlabel('Models',fontsize=20).set_color('b')\n",
    "plt.title('Analysis of Model Accuracy',fontsize=25).set_color('b')\n",
    "plt.xticks(range(len(x)),x,color='red',fontsize=15)\n",
    "plt.yticks(color='red',fontsize=15)\n",
    "plt.ylim([0,110])\n",
    "bar1=plt.bar(np.arange(len(x)),y,0.35,align='center',alpha=0.8,color='g')\n",
    "for t in bar1:\n",
    "    height=t.get_height()\n",
    "    plt.text(t.get_x()+t.get_width()/2.0,height,f'{height:.0f}',ha='center',va='bottom',color='red',fontsize=18)    \n",
    "plt.show()"
   ]
  },
  {
   "cell_type": "code",
   "execution_count": 8,
   "id": "e9375933",
   "metadata": {},
   "outputs": [
    {
     "data": {
      "text/plain": [
       "{'1.Dry AMD': 0, '11.Normal Fundus': 1, '2.Wet AMD': 2}"
      ]
     },
     "execution_count": 8,
     "metadata": {},
     "output_type": "execute_result"
    }
   ],
   "source": [
    "test_set_adm.class_indices"
   ]
  },
  {
   "cell_type": "code",
   "execution_count": 9,
   "id": "cdc749a4",
   "metadata": {},
   "outputs": [
    {
     "data": {
      "text/plain": [
       "{'11.Normal Fundus': 0,\n",
       " '3.Mild DR': 1,\n",
       " '4.Moderate DR': 2,\n",
       " '5.Severe DR': 3,\n",
       " '6.Proliferate DR': 4}"
      ]
     },
     "execution_count": 9,
     "metadata": {},
     "output_type": "execute_result"
    }
   ],
   "source": [
    "test_set_dr.class_indices"
   ]
  },
  {
   "cell_type": "code",
   "execution_count": 10,
   "id": "8a5efdd8",
   "metadata": {},
   "outputs": [
    {
     "data": {
      "text/plain": [
       "{'11.Normal Fundus': 0, '7.Cataract': 1}"
      ]
     },
     "execution_count": 10,
     "metadata": {},
     "output_type": "execute_result"
    }
   ],
   "source": [
    "test_set_catoract.class_indices"
   ]
  },
  {
   "cell_type": "code",
   "execution_count": 11,
   "id": "458da5a9",
   "metadata": {},
   "outputs": [
    {
     "data": {
      "text/plain": [
       "{'10.Glaucoma': 0, '11.Normal Fundus': 1}"
      ]
     },
     "execution_count": 11,
     "metadata": {},
     "output_type": "execute_result"
    }
   ],
   "source": [
    "test_set_glancoma.class_indices"
   ]
  },
  {
   "cell_type": "code",
   "execution_count": 12,
   "id": "2b20d96a",
   "metadata": {},
   "outputs": [
    {
     "data": {
      "text/plain": [
       "{'11.Normal Fundus': 0, '8.Hypertensive Retinopathy': 1}"
      ]
     },
     "execution_count": 12,
     "metadata": {},
     "output_type": "execute_result"
    }
   ],
   "source": [
    "test_set_hyper.class_indices"
   ]
  },
  {
   "cell_type": "code",
   "execution_count": 13,
   "id": "bb0ca82a",
   "metadata": {},
   "outputs": [
    {
     "data": {
      "text/plain": [
       "{'11.Normal Fundus': 0, '9.Pathological Myopia': 1}"
      ]
     },
     "execution_count": 13,
     "metadata": {},
     "output_type": "execute_result"
    }
   ],
   "source": [
    "test_set_myopia.class_indices"
   ]
  },
  {
   "cell_type": "code",
   "execution_count": null,
   "id": "bb813b6f",
   "metadata": {},
   "outputs": [],
   "source": []
  }
 ],
 "metadata": {
  "kernelspec": {
   "display_name": "Python 3 (ipykernel)",
   "language": "python",
   "name": "python3"
  },
  "language_info": {
   "codemirror_mode": {
    "name": "ipython",
    "version": 3
   },
   "file_extension": ".py",
   "mimetype": "text/x-python",
   "name": "python",
   "nbconvert_exporter": "python",
   "pygments_lexer": "ipython3",
   "version": "3.9.7"
  }
 },
 "nbformat": 4,
 "nbformat_minor": 5
}
