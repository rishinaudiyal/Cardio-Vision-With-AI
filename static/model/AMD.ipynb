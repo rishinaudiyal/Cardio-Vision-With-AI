{
 "cells": [
  {
   "cell_type": "markdown",
   "metadata": {
    "colab_type": "text",
    "id": "3DR-eO17geWu"
   },
   "source": [
    "# Convolutional Neural Network"
   ]
  },
  {
   "cell_type": "markdown",
   "metadata": {
    "colab_type": "text",
    "id": "EMefrVPCg-60"
   },
   "source": [
    "### Importing the libraries"
   ]
  },
  {
   "cell_type": "code",
   "execution_count": 1,
   "metadata": {
    "colab": {},
    "colab_type": "code",
    "id": "sCV30xyVhFbE"
   },
   "outputs": [],
   "source": [
    "import tensorflow as tf\n",
    "from keras.preprocessing.image import ImageDataGenerator"
   ]
  },
  {
   "cell_type": "code",
   "execution_count": 2,
   "metadata": {
    "colab": {},
    "colab_type": "code",
    "id": "FIleuCAjoFD8"
   },
   "outputs": [
    {
     "data": {
      "text/plain": [
       "'2.12.0'"
      ]
     },
     "execution_count": 2,
     "metadata": {},
     "output_type": "execute_result"
    }
   ],
   "source": [
    "tf.__version__"
   ]
  },
  {
   "cell_type": "markdown",
   "metadata": {
    "colab_type": "text",
    "id": "oxQxCBWyoGPE"
   },
   "source": [
    "## Part 1 - Data Preprocessing"
   ]
  },
  {
   "cell_type": "markdown",
   "metadata": {
    "colab_type": "text",
    "id": "MvE-heJNo3GG"
   },
   "source": [
    "### Preprocessing the Training set"
   ]
  },
  {
   "cell_type": "code",
   "execution_count": 3,
   "metadata": {
    "colab": {},
    "colab_type": "code",
    "id": "0koUcJMJpEBD"
   },
   "outputs": [
    {
     "name": "stdout",
     "output_type": "stream",
     "text": [
      "Found 4462 images belonging to 3 classes.\n"
     ]
    }
   ],
   "source": [
    "train_datagen = ImageDataGenerator(rescale = 1./255,\n",
    "                                   shear_range = 0.2,\n",
    "                                   zoom_range = 0.2,\n",
    "                                   horizontal_flip = True)\n",
    "training_set = train_datagen.flow_from_directory('C:/Users/HP/OneDrive/Desktop/archive (2)/ADM/train',\n",
    "                                                 target_size = (128,128),\n",
    "                                                 batch_size = 32,\n",
    "                                                 class_mode = 'categorical')"
   ]
  },
  {
   "cell_type": "markdown",
   "metadata": {
    "colab_type": "text",
    "id": "mrCMmGw9pHys"
   },
   "source": [
    "### Preprocessing the Test set"
   ]
  },
  {
   "cell_type": "code",
   "execution_count": 4,
   "metadata": {
    "colab": {},
    "colab_type": "code",
    "id": "SH4WzfOhpKc3"
   },
   "outputs": [
    {
     "name": "stdout",
     "output_type": "stream",
     "text": [
      "Found 256 images belonging to 3 classes.\n"
     ]
    }
   ],
   "source": [
    "test_datagen = ImageDataGenerator(rescale = 1./255)\n",
    "test_set = test_datagen.flow_from_directory('C:/Users/HP/OneDrive/Desktop/archive (2)/ADM/test',\n",
    "                                            target_size = (128,128),\n",
    "                                            batch_size = 32,\n",
    "                                            class_mode = 'categorical')"
   ]
  },
  {
   "cell_type": "code",
   "execution_count": 5,
   "metadata": {},
   "outputs": [
    {
     "name": "stdout",
     "output_type": "stream",
     "text": [
      "Found 103 images belonging to 3 classes.\n"
     ]
    }
   ],
   "source": [
    "test_datagen = ImageDataGenerator(rescale = 1./255)\n",
    "val_set = test_datagen.flow_from_directory('C:/Users/HP/OneDrive/Desktop/archive (2)/ADM/val',\n",
    "                                            target_size = (128,128),\n",
    "                                            batch_size = 32,\n",
    "                                            class_mode = 'categorical')"
   ]
  },
  {
   "cell_type": "markdown",
   "metadata": {
    "colab_type": "text",
    "id": "af8O4l90gk7B"
   },
   "source": [
    "## Part 2 - Building the CNN"
   ]
  },
  {
   "cell_type": "markdown",
   "metadata": {
    "colab_type": "text",
    "id": "ces1gXY2lmoX"
   },
   "source": [
    "### Initialising the CNN"
   ]
  },
  {
   "cell_type": "code",
   "execution_count": 6,
   "metadata": {
    "colab": {},
    "colab_type": "code",
    "id": "SAUt4UMPlhLS"
   },
   "outputs": [],
   "source": [
    "cnn = tf.keras.models.Sequential()"
   ]
  },
  {
   "cell_type": "markdown",
   "metadata": {
    "colab_type": "text",
    "id": "u5YJj_XMl5LF"
   },
   "source": [
    "### Step 1 - Convolution"
   ]
  },
  {
   "cell_type": "code",
   "execution_count": 7,
   "metadata": {
    "colab": {},
    "colab_type": "code",
    "id": "XPzPrMckl-hV"
   },
   "outputs": [],
   "source": [
    "cnn.add(tf.keras.layers.Conv2D(filters=64, kernel_size=3, activation='relu', input_shape=[128, 128, 3]))"
   ]
  },
  {
   "cell_type": "markdown",
   "metadata": {
    "colab_type": "text",
    "id": "tf87FpvxmNOJ"
   },
   "source": [
    "### Step 2 - Pooling"
   ]
  },
  {
   "cell_type": "code",
   "execution_count": 8,
   "metadata": {
    "colab": {},
    "colab_type": "code",
    "id": "ncpqPl69mOac"
   },
   "outputs": [],
   "source": [
    "cnn.add(tf.keras.layers.MaxPool2D(pool_size=2, strides=2))"
   ]
  },
  {
   "cell_type": "markdown",
   "metadata": {
    "colab_type": "text",
    "id": "xaTOgD8rm4mU"
   },
   "source": [
    "### Adding a second convolutional layer"
   ]
  },
  {
   "cell_type": "code",
   "execution_count": 9,
   "metadata": {
    "colab": {},
    "colab_type": "code",
    "id": "i_-FZjn_m8gk"
   },
   "outputs": [],
   "source": [
    "cnn.add(tf.keras.layers.Conv2D(filters=64, kernel_size=3, activation='relu'))\n",
    "cnn.add(tf.keras.layers.MaxPool2D(pool_size=2, strides=2))"
   ]
  },
  {
   "cell_type": "markdown",
   "metadata": {
    "colab_type": "text",
    "id": "tmiEuvTunKfk"
   },
   "source": [
    "### Step 3 - Flattening"
   ]
  },
  {
   "cell_type": "code",
   "execution_count": 10,
   "metadata": {
    "colab": {},
    "colab_type": "code",
    "id": "6AZeOGCvnNZn"
   },
   "outputs": [],
   "source": [
    "cnn.add(tf.keras.layers.Flatten())"
   ]
  },
  {
   "cell_type": "markdown",
   "metadata": {
    "colab_type": "text",
    "id": "dAoSECOm203v"
   },
   "source": [
    "### Step 4 - Full Connection"
   ]
  },
  {
   "cell_type": "code",
   "execution_count": 11,
   "metadata": {
    "colab": {},
    "colab_type": "code",
    "id": "8GtmUlLd26Nq"
   },
   "outputs": [],
   "source": [
    "cnn.add(tf.keras.layers.Dense(units=128, activation='relu'))"
   ]
  },
  {
   "cell_type": "markdown",
   "metadata": {
    "colab_type": "text",
    "id": "yTldFvbX28Na"
   },
   "source": [
    "### Step 5 - Output Layer"
   ]
  },
  {
   "cell_type": "code",
   "execution_count": 12,
   "metadata": {
    "colab": {},
    "colab_type": "code",
    "id": "1p_Zj1Mc3Ko_"
   },
   "outputs": [],
   "source": [
    "cnn.add(tf.keras.layers.Dense(units=3, activation='softmax'))"
   ]
  },
  {
   "cell_type": "markdown",
   "metadata": {
    "colab_type": "text",
    "id": "D6XkI90snSDl"
   },
   "source": [
    "## Part 3 - Training the CNN"
   ]
  },
  {
   "cell_type": "markdown",
   "metadata": {
    "colab_type": "text",
    "id": "vfrFQACEnc6i"
   },
   "source": [
    "### Compiling the CNN"
   ]
  },
  {
   "cell_type": "code",
   "execution_count": 13,
   "metadata": {
    "colab": {},
    "colab_type": "code",
    "id": "NALksrNQpUlJ"
   },
   "outputs": [],
   "source": [
    "cnn.compile(optimizer = 'adam', loss = 'categorical_crossentropy', metrics = ['accuracy'])"
   ]
  },
  {
   "cell_type": "markdown",
   "metadata": {
    "colab_type": "text",
    "id": "ehS-v3MIpX2h"
   },
   "source": [
    "### Training the CNN on the Training set and evaluating it on the Test set"
   ]
  },
  {
   "cell_type": "code",
   "execution_count": 14,
   "metadata": {
    "colab": {},
    "colab_type": "code",
    "id": "XUj1W4PJptta"
   },
   "outputs": [
    {
     "name": "stdout",
     "output_type": "stream",
     "text": [
      "Epoch 1/20\n",
      "140/140 [==============================] - 241s 2s/step - loss: 0.8946 - accuracy: 0.6304 - val_loss: 0.8338 - val_accuracy: 0.6893\n",
      "Epoch 2/20\n",
      "140/140 [==============================] - 193s 1s/step - loss: 0.6052 - accuracy: 0.7528 - val_loss: 0.6586 - val_accuracy: 0.7282\n",
      "Epoch 3/20\n",
      "140/140 [==============================] - 191s 1s/step - loss: 0.5129 - accuracy: 0.7909 - val_loss: 0.6355 - val_accuracy: 0.7087\n",
      "Epoch 4/20\n",
      "140/140 [==============================] - 200s 1s/step - loss: 0.4595 - accuracy: 0.8091 - val_loss: 0.6618 - val_accuracy: 0.7767\n",
      "Epoch 5/20\n",
      "140/140 [==============================] - 196s 1s/step - loss: 0.4207 - accuracy: 0.8328 - val_loss: 0.6408 - val_accuracy: 0.7670\n",
      "Epoch 6/20\n",
      "140/140 [==============================] - 197s 1s/step - loss: 0.4018 - accuracy: 0.8375 - val_loss: 0.5668 - val_accuracy: 0.7961\n",
      "Epoch 7/20\n",
      "140/140 [==============================] - 195s 1s/step - loss: 0.3830 - accuracy: 0.8478 - val_loss: 0.5552 - val_accuracy: 0.8058\n",
      "Epoch 8/20\n",
      "140/140 [==============================] - 157s 1s/step - loss: 0.3274 - accuracy: 0.8689 - val_loss: 0.7373 - val_accuracy: 0.7864\n",
      "Epoch 9/20\n",
      "140/140 [==============================] - 146s 1s/step - loss: 0.3100 - accuracy: 0.8752 - val_loss: 0.9506 - val_accuracy: 0.7961\n",
      "Epoch 10/20\n",
      "140/140 [==============================] - 146s 1s/step - loss: 0.2747 - accuracy: 0.8938 - val_loss: 0.3625 - val_accuracy: 0.8835\n",
      "Epoch 11/20\n",
      "140/140 [==============================] - 146s 1s/step - loss: 0.2739 - accuracy: 0.8969 - val_loss: 0.8255 - val_accuracy: 0.8252\n",
      "Epoch 12/20\n",
      "140/140 [==============================] - 147s 1s/step - loss: 0.2765 - accuracy: 0.8895 - val_loss: 0.4508 - val_accuracy: 0.8447\n",
      "Epoch 13/20\n",
      "140/140 [==============================] - 145s 1s/step - loss: 0.2342 - accuracy: 0.9074 - val_loss: 0.7689 - val_accuracy: 0.7864\n",
      "Epoch 14/20\n",
      "140/140 [==============================] - 147s 1s/step - loss: 0.1956 - accuracy: 0.9254 - val_loss: 0.7462 - val_accuracy: 0.7864\n",
      "Epoch 15/20\n",
      "140/140 [==============================] - 146s 1s/step - loss: 0.2080 - accuracy: 0.9216 - val_loss: 0.5859 - val_accuracy: 0.8058\n",
      "Epoch 16/20\n",
      "140/140 [==============================] - 145s 1s/step - loss: 0.1994 - accuracy: 0.9238 - val_loss: 0.6160 - val_accuracy: 0.8544\n",
      "Epoch 17/20\n",
      "140/140 [==============================] - 149s 1s/step - loss: 0.1708 - accuracy: 0.9355 - val_loss: 0.5176 - val_accuracy: 0.8641\n",
      "Epoch 18/20\n",
      "140/140 [==============================] - 148s 1s/step - loss: 0.1613 - accuracy: 0.9429 - val_loss: 0.9293 - val_accuracy: 0.8252\n",
      "Epoch 19/20\n",
      "140/140 [==============================] - 145s 1s/step - loss: 0.1602 - accuracy: 0.9408 - val_loss: 0.6925 - val_accuracy: 0.8252\n",
      "Epoch 20/20\n",
      "140/140 [==============================] - 145s 1s/step - loss: 0.1397 - accuracy: 0.9491 - val_loss: 0.6984 - val_accuracy: 0.8447\n"
     ]
    },
    {
     "data": {
      "text/plain": [
       "<keras.callbacks.History at 0x2a7e0096640>"
      ]
     },
     "execution_count": 14,
     "metadata": {},
     "output_type": "execute_result"
    }
   ],
   "source": [
    "cnn.fit(x = training_set, validation_data = val_set, epochs = 20)"
   ]
  },
  {
   "cell_type": "markdown",
   "metadata": {},
   "source": [
    "# Part 4 - Test and Save Model"
   ]
  },
  {
   "cell_type": "code",
   "execution_count": 15,
   "metadata": {},
   "outputs": [
    {
     "name": "stdout",
     "output_type": "stream",
     "text": [
      "8/8 [==============================] - 5s 569ms/step - loss: 0.2898 - accuracy: 0.9102\n"
     ]
    },
    {
     "data": {
      "text/plain": [
       "[0.28977927565574646, 0.91015625]"
      ]
     },
     "execution_count": 15,
     "metadata": {},
     "output_type": "execute_result"
    }
   ],
   "source": [
    "cnn.evaluate(test_set)"
   ]
  },
  {
   "cell_type": "code",
   "execution_count": 16,
   "metadata": {},
   "outputs": [],
   "source": [
    "cnn.save(\"AMD.h5\")"
   ]
  },
  {
   "cell_type": "code",
   "execution_count": null,
   "metadata": {},
   "outputs": [],
   "source": []
  }
 ],
 "metadata": {
  "colab": {
   "collapsed_sections": [],
   "name": "convolutional_neural_network.ipynb",
   "provenance": [],
   "toc_visible": true
  },
  "kernelspec": {
   "display_name": "Python 3 (ipykernel)",
   "language": "python",
   "name": "python3"
  },
  "language_info": {
   "codemirror_mode": {
    "name": "ipython",
    "version": 3
   },
   "file_extension": ".py",
   "mimetype": "text/x-python",
   "name": "python",
   "nbconvert_exporter": "python",
   "pygments_lexer": "ipython3",
   "version": "3.9.7"
  }
 },
 "nbformat": 4,
 "nbformat_minor": 1
}
